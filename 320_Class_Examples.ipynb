{
  "nbformat": 4,
  "nbformat_minor": 0,
  "metadata": {
    "colab": {
      "provenance": [],
      "authorship_tag": "ABX9TyOYj+7rsfZXv0WhYl1/Qn5f",
      "include_colab_link": true
    },
    "kernelspec": {
      "name": "python3",
      "display_name": "Python 3"
    },
    "language_info": {
      "name": "python"
    }
  },
  "cells": [
    {
      "cell_type": "markdown",
      "metadata": {
        "id": "view-in-github",
        "colab_type": "text"
      },
      "source": [
        "<a href=\"https://colab.research.google.com/github/alexsfrey/BTE320/blob/main/320_Class_Examples.ipynb\" target=\"_parent\"><img src=\"https://colab.research.google.com/assets/colab-badge.svg\" alt=\"Open In Colab\"/></a>"
      ]
    },
    {
      "cell_type": "code",
      "execution_count": null,
      "metadata": {
        "id": "rMk5D_mtyuSl",
        "colab": {
          "base_uri": "https://localhost:8080/"
        },
        "outputId": "4ba9c817-6b2d-44b2-ce48-9e1f1c65f23f"
      },
      "outputs": [
        {
          "output_type": "stream",
          "name": "stdout",
          "text": [
            "Are you a new customer? (Y/N)Y\n",
            "Enter deposit amount: 10000\n",
            "Total money: 10300.00\n"
          ]
        }
      ],
      "source": [
        "customer = input('Are you a new customer? (Y/N)')\n",
        "\n",
        "deposit = float(input(\"Enter deposit amount: \"))\n",
        "if customer == 'N':\n",
        "  if deposit > 10000:\n",
        "    interestRate = .035\n",
        "  elif 1000<= deposit <= 10000:\n",
        "    interestRate = .0325\n",
        "  else:\n",
        "    interestRate = .03\n",
        "else:\n",
        "  interestRate = .03\n",
        "\n",
        "totalMoney = (1 + interestRate) * deposit\n",
        "\n",
        "\n",
        "print(f'Total money: {totalMoney:.2f}')"
      ]
    },
    {
      "cell_type": "code",
      "source": [],
      "metadata": {
        "id": "DjrK_vEj0-1_"
      },
      "execution_count": null,
      "outputs": []
    },
    {
      "cell_type": "code",
      "source": [
        "import random\n",
        "\n",
        "playAgain = input('Do you want to play rock, paper, scissors? (y/n) ')\n",
        "\n",
        "while playAgain == 'y':\n",
        "  pc_choice = random.choice(['rock', 'paper', 'scissors'])\n",
        "  userInput = input('Enter rock, paper, or scissors: ')\n",
        "\n",
        "  print(f'computer chose: {pc_choice}')\n",
        "\n",
        "  if (userInput == 'rock' and pc_choice == 'scissors') or (userInput == 'paper' and pc_choice == 'rock') or (userInput == 'scissors' and pc_choice == 'paper'):\n",
        "    print(\"user wins\")\n",
        "  elif userInput == pc_choice:\n",
        "    print(\"it's a tie\")\n",
        "  else:\n",
        "    print('computer wins')\n",
        "\n",
        "  playAgain = input('Do you want to play again? (y/n) ')\n",
        "print('Goodbye!')\n",
        "\n"
      ],
      "metadata": {
        "colab": {
          "base_uri": "https://localhost:8080/"
        },
        "id": "WA046u5wEzaS",
        "outputId": "2589956c-cd4c-4802-fa97-762eef7b3ec1"
      },
      "execution_count": null,
      "outputs": [
        {
          "name": "stdout",
          "output_type": "stream",
          "text": [
            "Do you want to play rock, paper, scissors? (y/n) y\n",
            "Enter rock, paper, or scissors: rock\n",
            "computer chose: scissors\n",
            "user wins\n",
            "Do you want to play again? (y/n) n\n"
          ]
        }
      ]
    },
    {
      "cell_type": "code",
      "source": [
        "userInput = int(input('Enter a year: '))\n",
        "\n",
        "if userInput % 100 == 0:\n",
        "  if userInput % 400 == 0:\n",
        "    print('This is a leap year')\n",
        "  else:\n",
        "    print('This is not a leap year')\n",
        "\n",
        "elif userInput % 4 == 0:\n",
        "  print('This is a leap year')\n",
        "\n",
        "else:\n",
        "  print('This is not a leap year')"
      ],
      "metadata": {
        "colab": {
          "base_uri": "https://localhost:8080/"
        },
        "id": "mI3edSpyK7Ed",
        "outputId": "6e0656ec-4175-4306-f767-f227ac15c2e2"
      },
      "execution_count": null,
      "outputs": [
        {
          "output_type": "stream",
          "name": "stdout",
          "text": [
            "Enter a year: 2200\n",
            "This is not a leap year\n"
          ]
        }
      ]
    },
    {
      "cell_type": "code",
      "source": [
        "for hours in range(1,9):\n",
        "  parking_fee = 5 + 2.5*hours\n",
        "\n",
        "  if parking_fee <= 10:\n",
        "    parking_fee = 10\n",
        "  elif parking_fee >= 20:\n",
        "    parking_fee = 20\n",
        "\n",
        "  print(f'Hours: {hours} | Price: ${float(parking_fee)}')"
      ],
      "metadata": {
        "colab": {
          "base_uri": "https://localhost:8080/"
        },
        "id": "t5HzD19z5U90",
        "outputId": "ad6a2fe2-44f9-4a22-a36b-cd2e62a0ecc5"
      },
      "execution_count": null,
      "outputs": [
        {
          "output_type": "stream",
          "name": "stdout",
          "text": [
            "Hours: 1 | Price: $10\n",
            "Hours: 2 | Price: $10\n",
            "Hours: 3 | Price: $12.5\n",
            "Hours: 4 | Price: $15.0\n",
            "Hours: 5 | Price: $17.5\n",
            "Hours: 6 | Price: $20\n",
            "Hours: 7 | Price: $20\n",
            "Hours: 8 | Price: $20\n"
          ]
        }
      ]
    },
    {
      "cell_type": "code",
      "source": [
        "amount = 50000\n",
        "down = 100000\n",
        "deposit = 10000\n",
        "month = 0\n",
        "\n",
        "while amount < down:\n",
        "  print(f'Current amount: ${amount}')\n",
        "  amount = amount + deposit\n",
        "  print(f'Amount after deposit: ${amount}')\n",
        "\n",
        "  if amount >= down:\n",
        "    print('___________________________')\n",
        "    break\n",
        "\n",
        "  print('---------------------------')\n",
        "  month = month + 1\n",
        "\n",
        "print(f'Getting $100,000 took {month} months.')\n"
      ],
      "metadata": {
        "colab": {
          "base_uri": "https://localhost:8080/"
        },
        "id": "boM9ZLy870Cs",
        "outputId": "8cb932ad-f285-4f4d-cc90-b94a7ef16431"
      },
      "execution_count": null,
      "outputs": [
        {
          "output_type": "stream",
          "name": "stdout",
          "text": [
            "Current amount: $50000\n",
            "Amount after deposit: $60000\n",
            "---------------------------\n",
            "Current amount: $60000\n",
            "Amount after deposit: $70000\n",
            "---------------------------\n",
            "Current amount: $70000\n",
            "Amount after deposit: $80000\n",
            "---------------------------\n",
            "Current amount: $80000\n",
            "Amount after deposit: $90000\n",
            "---------------------------\n",
            "Current amount: $90000\n",
            "Amount after deposit: $100000\n",
            "___________________________\n",
            "Getting $100,000 took 4 months.\n"
          ]
        }
      ]
    },
    {
      "cell_type": "code",
      "source": [
        "while True:\n",
        "  numberOne = float(input('Enter the first number: '))\n",
        "  numberTwo = float(input('Enter the second number: '))\n",
        "  operator = input('Enter the desired operator, or type break to end: ')\n",
        "\n",
        "  if operator == 'break':\n",
        "    break\n",
        "  elif operator == '+':\n",
        "    output = numberOne + numberTwo\n",
        "  elif operator == '-':\n",
        "    output = numberOne - numberTwo\n",
        "  elif operator == '*':\n",
        "    output = numberOne * numberTwo\n",
        "  elif operator == '/':\n",
        "    output = numberOne / numberTwo\n",
        "  elif operator == '//':\n",
        "    output = numberOne // numberTwo\n",
        "  elif operator == '%':\n",
        "    output = numberOne * numberTwo\n",
        "  elif operator == '**':\n",
        "    output = numberOne ** numberTwo\n",
        "  else:\n",
        "    print('Invalid operator')\n",
        "    continue\n",
        "\n",
        "  print(f'Answer: {output:.2f}')"
      ],
      "metadata": {
        "colab": {
          "base_uri": "https://localhost:8080/"
        },
        "id": "SVlR-fN2a8hf",
        "outputId": "aaffb14f-182f-4b00-fb5c-6eaeba838b3b"
      },
      "execution_count": 2,
      "outputs": [
        {
          "name": "stdout",
          "output_type": "stream",
          "text": [
            "Enter the first number: 457\n",
            "Enter the second number: 23\n",
            "Enter the desired operator, or type break to end: /\n",
            "Answer: 19.87\n",
            "Enter the first number: 9\n",
            "Enter the second number: 9\n",
            "Enter the desired operator, or type break to end: break\n"
          ]
        }
      ]
    }
  ]
}